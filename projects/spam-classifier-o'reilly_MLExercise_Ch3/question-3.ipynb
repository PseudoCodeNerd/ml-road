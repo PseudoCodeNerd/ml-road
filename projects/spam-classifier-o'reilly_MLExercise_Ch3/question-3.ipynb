{
 "cells": [
  {
   "cell_type": "markdown",
   "metadata": {},
   "source": [
    "# Hands-On Machine Learning with Scikit-Learn, Keras, and TensorFlow: Concepts, Tools, and Techniques to Build Intelligent Systems\n",
    "## Chapter 3: Classification\n",
    "### Exercise: Question 3\n",
    "\n",
    "**Problem Statement**:\n",
    "Build a spam classifier ( a more challenging experience)\n",
    "* Download examples of spam and ham from Apaches SpamAssasin's Public DataSet.\n",
    "* Unzip data and familiarize yourself with data format.\n",
    "* Split data-sets into training and test.\n",
    "* Write a data preparation pipeline to convert each email into a feature vector. The pipeline should transform email into a (sparse) vector that indicates presence or absence of each possible word. \n",
    "* You may add hyperparameters to prep. pipeline to control whether or not to strip of email header, convert mail to lowercase, remove punctuation, replace URLS with \"url\", replace all numbers with \"NUM\" or do stemming.\n",
    "\n",
    "{Optional}, try out several classifiers and see if you can build a great spam classifier, with high recall and precision"
   ]
  },
  {
   "cell_type": "markdown",
   "metadata": {},
   "source": [
    "### [Official Data Desc.](http://spamassassin.apache.org/old/publiccorpus/readme.html) \n",
    "  - spam: 500 spam messages, all received from non-spam-trap sources.\n",
    "\n",
    "  - easy_ham: 2500 non-spam messages.  These are typically quite easy to\n",
    "    differentiate from spam, since they frequently do not contain any spammish\n",
    "    signatures (like HTML etc).\n",
    "\n",
    "  - hard_ham: 250 non-spam messages which are closer in many respects to\n",
    "    typical spam: use of HTML, unusual HTML markup, coloured text,\n",
    "    \"spammish-sounding\" phrases etc.\n",
    "\n",
    "  - easy_ham_2: 1400 non-spam messages.  A more recent addition to the set.\n",
    "\n",
    "  - spam_2: 1397 spam messages.  Again, more recent.\n",
    "\n",
    "Total count: 6047 messages, with about a 31% spam ratio"
   ]
  },
  {
   "cell_type": "code",
   "execution_count": 2,
   "metadata": {},
   "outputs": [],
   "source": [
    "import tarfile\n",
    "import os\n",
    "import urllib\n",
    "\n",
    "down_path = \"http://spamassassin.apache.org/old/publiccorpus/\"\n",
    "ham_url = down_path + \"20030228_easy_ham.tar.bz2\"\n",
    "spam_url = down_path + \"20030228_spam.tar.bz2\"\n",
    "spam_path = os.path.join(\"datasets\", \"spam\")\n",
    "\n",
    "def fetch_spam_data(spam_url=spam_url, spam_path=spam_path):\n",
    "    if not os.path.isdir(spam_path):\n",
    "        os.makedirs(spam_path)\n",
    "    for filename, url in ((\"ham.tar.bz2\", ham_url), (\"spam.tar.bz2\", spam_url)):\n",
    "        path = os.path.join(spam_path, filename)\n",
    "        if not os.path.isfile(path):\n",
    "            urllib.request.urlretrieve(url, path)\n",
    "        tar_bz2_file = tarfile.open(path)\n",
    "        tar_bz2_file.extractall(path=spam_path)\n",
    "        tar_bz2_file.close()"
   ]
  },
  {
   "cell_type": "code",
   "execution_count": 3,
   "metadata": {},
   "outputs": [],
   "source": [
    "fetch_spam_data()"
   ]
  },
  {
   "cell_type": "code",
   "execution_count": 5,
   "metadata": {},
   "outputs": [],
   "source": [
    "ham_directory = os.path.join(spam_path, \"easy_ham\")\n",
    "spam_directory = os.path.join(spam_path, \"spam\")\n",
    "ham_filenames = [name for name in sorted(os.listdir(ham_directory)) if len(name) > 20]\n",
    "spam_filenames = [name for name in sorted(os.listdir(spam_directory)) if len(name) > 20]"
   ]
  },
  {
   "cell_type": "code",
   "execution_count": 7,
   "metadata": {},
   "outputs": [
    {
     "name": "stdout",
     "output_type": "stream",
     "text": [
      "2500\n",
      "500\n"
     ]
    }
   ],
   "source": [
    "print(len(ham_filenames))\n",
    "print(len(spam_filenames))"
   ]
  },
  {
   "cell_type": "code",
   "execution_count": 12,
   "metadata": {},
   "outputs": [],
   "source": [
    "#using email module and policy function (in email) in python to parse mails\n",
    "import email\n",
    "import email.policy\n",
    "\n",
    "def get_mails(is_spam, file, spam_path=spam_path):\n",
    "    if is_spam:\n",
    "        directory = \"spam\"\n",
    "    else:\n",
    "        directory = \"easy_ham\"\n",
    "    with open(os.path.join(spam_path, directory, file), \"rb\") as f:\n",
    "              return email.parser.BytesParser(policy=email.policy.default).parse(f)\n",
    "ham_emails = [get_mails(is_spam=False, file=name) for name in ham_filenames]\n",
    "spam_emails = [get_mails(is_spam=True, file=name) for name in spam_filenames]"
   ]
  },
  {
   "cell_type": "code",
   "execution_count": 30,
   "metadata": {},
   "outputs": [],
   "source": [
    "import numpy as np\n",
    "from sklearn.model_selection import train_test_split\n",
    "\n",
    "X = np.array(ham_emails + spam_emails)\n",
    "y = np.array([0] * len(ham_emails) + [1] * len(spam_emails))\n",
    "\n",
    "X_train, X_test, y_train, y_test = train_test_split(X, y, test_size=0.2, random_state=42)"
   ]
  },
  {
   "cell_type": "code",
   "execution_count": 14,
   "metadata": {},
   "outputs": [
    {
     "name": "stdout",
     "output_type": "stream",
     "text": [
      "< >\n",
      "> I downloaded a driver from the nVidia website and installed it using RPM.\n",
      "> Then I ran Sax2 (as was recommended in some postings I found on the net),\n",
      "but\n",
      "> it still doesn't feature my video card in the available list. What next?\n",
      "\n",
      "\n",
      "hmmm.\n",
      "\n",
      "Peter.\n",
      "\n",
      "Open a terminal and as root type\n",
      "lsmod\n",
      "you want to find a module called\n",
      "NVdriver.\n",
      "\n",
      "If it isn't loaded then load it.\n",
      "#insmod NVdriver.o\n",
      "Oh and ensure you have this module loaded on boot.... else when you reboot\n",
      "you might be in for a nasty surprise.\n",
      "\n",
      "Once the kernel module is loaded\n",
      "\n",
      "#vim /etc/X11/XF86Config\n",
      "\n",
      "in the section marked\n",
      "Driver I have \"NeoMagic\"\n",
      "you need to have\n",
      "Driver \"nvidia\"\n",
      "\n",
      "Here is part of my XF86Config\n",
      "\n",
      "Also note that using the card you are using you 'should' be able to safely\n",
      "use the FbBpp 32 option .\n",
      "\n",
      "Section \"Module\"\n",
      " Load  \"extmod\"\n",
      " Load  \"xie\"\n",
      " Load  \"pex5\"\n",
      " Load  \"glx\"\n",
      " SubSection \"dri\"    #You don't need to load this Peter.\n",
      "  Option     \"Mode\" \"666\"\n",
      " EndSubSection\n",
      " Load  \"dbe\"\n",
      " Load  \"record\"\n",
      " Load  \"xtrap\"\n",
      " Load  \"speedo\"\n",
      " Load  \"type1\"\n",
      "EndSection\n",
      "\n",
      "#Plus the Modelines for your monitor should be singfinicantly different.\n",
      "\n",
      "Section \"Monitor\"\n",
      " Identifier   \"Monitor0\"\n",
      " VendorName   \"Monitor Vendor\"\n",
      " ModelName    \"Monitor Model\"\n",
      " HorizSync    28.00-35.00\n",
      " VertRefresh  43.00-72.00\n",
      "        Modeline \"800x600\" 36 800 824 896 1024 600 601 603 625\n",
      " Modeline \"1024x768\" 49 1024 1032 1176 1344 768 771 777 806\n",
      "EndSection\n",
      "\n",
      "Section \"Device\"\n",
      "\n",
      " Identifier  \"Card0\"\n",
      " Driver      \"neomagic\" #Change this to \"nvidia\"... making sure the modules\n",
      "are in the correct path\n",
      " VendorName  \"Neomagic\" # \"Nvidia\"\n",
      " BoardName   \"NM2160\"\n",
      " BusID       \"PCI:0:18:0\"\n",
      "EndSection\n",
      "\n",
      "Section \"Screen\"\n",
      " Identifier \"Screen0\"\n",
      " Device     \"Card0\"\n",
      " Monitor    \"Monitor0\"\n",
      " DefaultDepth 24\n",
      " SubSection \"Display\"\n",
      "  Depth     1\n",
      " EndSubSection\n",
      " SubSection \"Display\"\n",
      "  Depth     4\n",
      " EndSubSection\n",
      " SubSection \"Display\"\n",
      "  Depth     8\n",
      " EndSubSection\n",
      " SubSection \"Display\"\n",
      "  Depth     15\n",
      " EndSubSection\n",
      " SubSection \"Display\"\n",
      "  Depth     16\n",
      " EndSubSection\n",
      " SubSection \"Display\"\n",
      "  Depth     24\n",
      "  #FbBpp   32 #Ie you should be able lto uncomment this line\n",
      "  Modes   \"1024x768\" \"800x600\" \"640x480\" # And add in higher resulutions as\n",
      "desired.\n",
      " EndSubSection\n",
      "EndSection\n",
      "\n",
      "\n",
      "-- \n",
      "Irish Linux Users' Group: ilug@linux.ie\n",
      "http://www.linux.ie/mailman/listinfo/ilug for (un)subscription information.\n",
      "List maintainer: listmaster@linux.ie\n"
     ]
    }
   ],
   "source": [
    "print(ham_emails[42].get_content().strip())"
   ]
  },
  {
   "cell_type": "code",
   "execution_count": 15,
   "metadata": {},
   "outputs": [
    {
     "name": "stdout",
     "output_type": "stream",
     "text": [
      "Help wanted.  We are a 14 year old fortune 500 company, that is\n",
      "growing at a tremendous rate.  We are looking for individuals who\n",
      "want to work from home.\n",
      "\n",
      "This is an opportunity to make an excellent income.  No experience\n",
      "is required.  We will train you.\n",
      "\n",
      "So if you are looking to be employed from home with a career that has\n",
      "vast opportunities, then go:\n",
      "\n",
      "http://www.basetel.com/wealthnow\n",
      "\n",
      "We are looking for energetic and self motivated people.  If that is you\n",
      "than click on the link and fill out the form, and one of our\n",
      "employement specialist will contact you.\n",
      "\n",
      "To be removed from our link simple go to:\n",
      "\n",
      "http://www.basetel.com/remove.html\n",
      "\n",
      "\n",
      "7749doNL1-136DfsE5701lGxl2-486pAKM7127JwoR4-054PCfq9499xMtW0-594hucS91l66\n"
     ]
    }
   ],
   "source": [
    "print(spam_emails[42].get_content().strip())"
   ]
  },
  {
   "cell_type": "markdown",
   "metadata": {},
   "source": [
    "Some emails are actually multipart, with images and attachments. Let's look at the various types of structures."
   ]
  },
  {
   "cell_type": "code",
   "execution_count": 23,
   "metadata": {},
   "outputs": [],
   "source": [
    "def email_structure(email):\n",
    "    if isinstance(email, str):\n",
    "        return email\n",
    "    payload = email.get_payload()\n",
    "    if isinstance(payload, list):\n",
    "        return \"multipart({})\".format(\", \".join([\n",
    "            email_structure(sub_email)\n",
    "            for sub_email in payload\n",
    "        ]))\n",
    "    else:\n",
    "        return email.get_content_type()\n",
    "    \n",
    "from collections import Counter\n",
    "\n",
    "def structure_count(emails):\n",
    "    structures = Counter()\n",
    "    for email in emails:\n",
    "        structure = email_structure(email)\n",
    "        structures[structure] += 1\n",
    "    return structures    "
   ]
  },
  {
   "cell_type": "code",
   "execution_count": 25,
   "metadata": {},
   "outputs": [
    {
     "data": {
      "text/plain": [
       "[('text/plain', 2408),\n",
       " ('multipart(text/plain, application/pgp-signature)', 66),\n",
       " ('multipart(text/plain, text/html)', 8),\n",
       " ('multipart(text/plain, text/plain)', 4),\n",
       " ('multipart(text/plain)', 3),\n",
       " ('multipart(text/plain, application/octet-stream)', 2),\n",
       " ('multipart(text/plain, text/enriched)', 1),\n",
       " ('multipart(text/plain, application/ms-tnef, text/plain)', 1),\n",
       " ('multipart(multipart(text/plain, text/plain, text/plain), application/pgp-signature)',\n",
       "  1),\n",
       " ('multipart(text/plain, video/mng)', 1),\n",
       " ('multipart(text/plain, multipart(text/plain))', 1),\n",
       " ('multipart(text/plain, application/x-pkcs7-signature)', 1),\n",
       " ('multipart(text/plain, multipart(text/plain, text/plain), text/rfc822-headers)',\n",
       "  1),\n",
       " ('multipart(text/plain, multipart(text/plain, text/plain), multipart(multipart(text/plain, application/x-pkcs7-signature)))',\n",
       "  1),\n",
       " ('multipart(text/plain, application/x-java-applet)', 1)]"
      ]
     },
     "execution_count": 25,
     "metadata": {},
     "output_type": "execute_result"
    }
   ],
   "source": [
    "structure_count(ham_emails).most_common()"
   ]
  },
  {
   "cell_type": "code",
   "execution_count": 26,
   "metadata": {},
   "outputs": [
    {
     "data": {
      "text/plain": [
       "[('text/plain', 218),\n",
       " ('text/html', 183),\n",
       " ('multipart(text/plain, text/html)', 45),\n",
       " ('multipart(text/html)', 20),\n",
       " ('multipart(text/plain)', 19),\n",
       " ('multipart(multipart(text/html))', 5),\n",
       " ('multipart(text/plain, image/jpeg)', 3),\n",
       " ('multipart(text/html, application/octet-stream)', 2),\n",
       " ('multipart(text/plain, application/octet-stream)', 1),\n",
       " ('multipart(text/html, text/plain)', 1),\n",
       " ('multipart(multipart(text/html), application/octet-stream, image/jpeg)', 1),\n",
       " ('multipart(multipart(text/plain, text/html), image/gif)', 1),\n",
       " ('multipart/alternative', 1)]"
      ]
     },
     "execution_count": 26,
     "metadata": {},
     "output_type": "execute_result"
    }
   ],
   "source": [
    "structure_count(spam_emails).most_common()"
   ]
  },
  {
   "cell_type": "markdown",
   "metadata": {},
   "source": [
    "we can see that spam has got quite a lot HTML and plain text (either together or individualy)\n",
    "ham mails are often plain text and are signed using PGP (spam isn't). Concretely, email structure\n",
    "appears to be an important feature in classification "
   ]
  },
  {
   "cell_type": "code",
   "execution_count": 28,
   "metadata": {},
   "outputs": [
    {
     "name": "stdout",
     "output_type": "stream",
     "text": [
      "Return-Path --> <bill@bluemail.dk>\n",
      "Delivered-To --> zzzz@localhost.spamassassin.taint.org\n",
      "Received --> from localhost (localhost [127.0.0.1])\tby phobos.labs.spamassassin.taint.org (Postfix) with ESMTP id 98B7343F99\tfor <zzzz@localhost>; Mon, 26 Aug 2002 10:12:43 -0400 (EDT)\n",
      "Received --> from mail.webnote.net [193.120.211.219]\tby localhost with POP3 (fetchmail-5.9.0)\tfor zzzz@localhost (single-drop); Mon, 26 Aug 2002 15:12:43 +0100 (IST)\n",
      "Received --> from smtp.easydns.com (smtp.easydns.com [205.210.42.30])\tby webnote.net (8.9.3/8.9.3) with ESMTP id TAA11952;\tFri, 23 Aug 2002 19:49:56 +0100\n",
      "From --> bill@bluemail.dk\n",
      "Received --> from bluemail.dk (klhtnet.klht.pvt.k12.ct.us [206.97.9.2])\tby smtp.easydns.com (Postfix) with SMTP\tid 754E52CFFB; Fri, 23 Aug 2002 14:49:52 -0400 (EDT)\n",
      "Reply-To --> bill@bluemail.dk\n",
      "Message-ID --> <003d35d40cab$6883b2c8$6aa10ea4@khnqja>\n",
      "To --> byrt5@hotmail.com\n",
      "Subject --> FORTUNE 500 COMPANY HIRING, AT HOME REPS.\n",
      "MiME-Version --> 1.0\n",
      "Content-Type --> text/plain; charset=\"iso-8859-1\"\n",
      "X-Priority --> 3 (Normal)\n",
      "X-MSMail-Priority --> Normal\n",
      "X-Mailer --> Microsoft Outlook Express 6.00.2462.0000\n",
      "Importance --> Normal\n",
      "Date --> Fri, 23 Aug 2002 14:49:52 -0400\n",
      "Content-Transfer-Encoding --> 8bit\n"
     ]
    }
   ],
   "source": [
    "#email_headers\n",
    "for header, value in spam_emails[42].items():\n",
    "    print(header,\"-->\",value)"
   ]
  },
  {
   "cell_type": "markdown",
   "metadata": {},
   "source": [
    "a networking guy would assure you that this in-fact is an overload of info which can be used for effective classification however, i gotta read some of these headers up to get more background info on how spam affects the headers... \n",
    "For now lets just figure stuff out from the \"Subject\" header."
   ]
  },
  {
   "cell_type": "code",
   "execution_count": 29,
   "metadata": {},
   "outputs": [
    {
     "data": {
      "text/plain": [
       "'FORTUNE 500 COMPANY HIRING, AT HOME REPS.'"
      ]
     },
     "execution_count": 29,
     "metadata": {},
     "output_type": "execute_result"
    }
   ],
   "source": [
    "spam_emails[42][\"Subject\"]"
   ]
  },
  {
   "cell_type": "markdown",
   "metadata": {},
   "source": [
    "### Feature-Engineering"
   ]
  },
  {
   "cell_type": "code",
   "execution_count": null,
   "metadata": {},
   "outputs": [],
   "source": []
  }
 ],
 "metadata": {
  "kernelspec": {
   "display_name": "Python 3",
   "language": "python",
   "name": "python3"
  },
  "language_info": {
   "codemirror_mode": {
    "name": "ipython",
    "version": 3
   },
   "file_extension": ".py",
   "mimetype": "text/x-python",
   "name": "python",
   "nbconvert_exporter": "python",
   "pygments_lexer": "ipython3",
   "version": "3.7.1"
  }
 },
 "nbformat": 4,
 "nbformat_minor": 2
}
