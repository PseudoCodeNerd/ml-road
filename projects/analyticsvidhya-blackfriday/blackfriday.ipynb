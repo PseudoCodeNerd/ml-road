{
 "cells": [
  {
   "cell_type": "markdown",
   "metadata": {},
   "source": [
    "# Black-Friday-Practice-Problem\n",
    "\n",
    "## Introduction\n",
    "\n",
    "This is my contribution to the Black-Friday Problem competition at:\n",
    "\n",
    "https://datahack.analyticsvidhya.com/contest/black-friday/<br>\n",
    "\n",
    "Further documentation in README.md"
   ]
  },
  {
   "cell_type": "code",
   "execution_count": 1,
   "metadata": {
    "collapsed": true
   },
   "outputs": [],
   "source": [
    "import graphlab"
   ]
  },
  {
   "cell_type": "markdown",
   "metadata": {},
   "source": [
    "## Importing the data"
   ]
  },
  {
   "cell_type": "code",
   "execution_count": 4,
   "metadata": {},
   "outputs": [
    {
     "data": {
      "text/html": [
       "<pre>Finished parsing file C:\\Users\\shekh\\Documents\\ml-road\\projects\\analyticsvidhya-blackfriday\\train.csv</pre>"
      ],
      "text/plain": [
       "Finished parsing file C:\\Users\\shekh\\Documents\\ml-road\\projects\\analyticsvidhya-blackfriday\\train.csv"
      ]
     },
     "metadata": {},
     "output_type": "display_data"
    },
    {
     "data": {
      "text/html": [
       "<pre>Parsing completed. Parsed 100 lines in 1.89094 secs.</pre>"
      ],
      "text/plain": [
       "Parsing completed. Parsed 100 lines in 1.89094 secs."
      ]
     },
     "metadata": {},
     "output_type": "display_data"
    },
    {
     "name": "stdout",
     "output_type": "stream",
     "text": [
      "------------------------------------------------------\n",
      "Inferred types from first 100 line(s) of file as \n",
      "column_type_hints=[long,str,str,str,long,str,str,long,long,long,long,long]\n",
      "If parsing fails due to incorrect types, you can correct\n",
      "the inferred type list above and pass it to read_csv in\n",
      "the column_type_hints argument\n",
      "------------------------------------------------------\n"
     ]
    },
    {
     "data": {
      "text/html": [
       "<pre>Finished parsing file C:\\Users\\shekh\\Documents\\ml-road\\projects\\analyticsvidhya-blackfriday\\train.csv</pre>"
      ],
      "text/plain": [
       "Finished parsing file C:\\Users\\shekh\\Documents\\ml-road\\projects\\analyticsvidhya-blackfriday\\train.csv"
      ]
     },
     "metadata": {},
     "output_type": "display_data"
    },
    {
     "data": {
      "text/html": [
       "<pre>Parsing completed. Parsed 550068 lines in 1.28284 secs.</pre>"
      ],
      "text/plain": [
       "Parsing completed. Parsed 550068 lines in 1.28284 secs."
      ]
     },
     "metadata": {},
     "output_type": "display_data"
    },
    {
     "data": {
      "text/html": [
       "<pre>Finished parsing file C:\\Users\\shekh\\Documents\\ml-road\\projects\\analyticsvidhya-blackfriday\\test.csv</pre>"
      ],
      "text/plain": [
       "Finished parsing file C:\\Users\\shekh\\Documents\\ml-road\\projects\\analyticsvidhya-blackfriday\\test.csv"
      ]
     },
     "metadata": {},
     "output_type": "display_data"
    },
    {
     "data": {
      "text/html": [
       "<pre>Parsing completed. Parsed 100 lines in 0.852712 secs.</pre>"
      ],
      "text/plain": [
       "Parsing completed. Parsed 100 lines in 0.852712 secs."
      ]
     },
     "metadata": {},
     "output_type": "display_data"
    },
    {
     "name": "stdout",
     "output_type": "stream",
     "text": [
      "------------------------------------------------------\n",
      "Inferred types from first 100 line(s) of file as \n",
      "column_type_hints=[long,str,str,str,long,str,str,long,long,long,long]\n",
      "If parsing fails due to incorrect types, you can correct\n",
      "the inferred type list above and pass it to read_csv in\n",
      "the column_type_hints argument\n",
      "------------------------------------------------------\n"
     ]
    },
    {
     "data": {
      "text/html": [
       "<pre>Finished parsing file C:\\Users\\shekh\\Documents\\ml-road\\projects\\analyticsvidhya-blackfriday\\test.csv</pre>"
      ],
      "text/plain": [
       "Finished parsing file C:\\Users\\shekh\\Documents\\ml-road\\projects\\analyticsvidhya-blackfriday\\test.csv"
      ]
     },
     "metadata": {},
     "output_type": "display_data"
    },
    {
     "data": {
      "text/html": [
       "<pre>Parsing completed. Parsed 233599 lines in 0.581601 secs.</pre>"
      ],
      "text/plain": [
       "Parsing completed. Parsed 233599 lines in 0.581601 secs."
      ]
     },
     "metadata": {},
     "output_type": "display_data"
    }
   ],
   "source": [
    "train = graphlab.SFrame('train.csv')\n",
    "test = graphlab.SFrame('test.csv')"
   ]
  },
  {
   "cell_type": "code",
   "execution_count": 9,
   "metadata": {},
   "outputs": [
    {
     "data": {
      "text/html": [
       "<div style=\"max-height:1000px;max-width:1500px;overflow:auto;\"><table frame=\"box\" rules=\"cols\">\n",
       "    <tr>\n",
       "        <th style=\"padding-left: 1em; padding-right: 1em; text-align: center\">User_ID</th>\n",
       "        <th style=\"padding-left: 1em; padding-right: 1em; text-align: center\">Product_ID</th>\n",
       "        <th style=\"padding-left: 1em; padding-right: 1em; text-align: center\">Gender</th>\n",
       "        <th style=\"padding-left: 1em; padding-right: 1em; text-align: center\">Age</th>\n",
       "        <th style=\"padding-left: 1em; padding-right: 1em; text-align: center\">Occupation</th>\n",
       "        <th style=\"padding-left: 1em; padding-right: 1em; text-align: center\">City_Category</th>\n",
       "        <th style=\"padding-left: 1em; padding-right: 1em; text-align: center\">Stay_In_Current_City_Year<br>s ...</th>\n",
       "        <th style=\"padding-left: 1em; padding-right: 1em; text-align: center\">Marital_Status</th>\n",
       "        <th style=\"padding-left: 1em; padding-right: 1em; text-align: center\">Product_Category_1</th>\n",
       "    </tr>\n",
       "    <tr>\n",
       "        <td style=\"padding-left: 1em; padding-right: 1em; text-align: center; vertical-align: top\">1000001</td>\n",
       "        <td style=\"padding-left: 1em; padding-right: 1em; text-align: center; vertical-align: top\">P00069042</td>\n",
       "        <td style=\"padding-left: 1em; padding-right: 1em; text-align: center; vertical-align: top\">F</td>\n",
       "        <td style=\"padding-left: 1em; padding-right: 1em; text-align: center; vertical-align: top\">0-17</td>\n",
       "        <td style=\"padding-left: 1em; padding-right: 1em; text-align: center; vertical-align: top\">10</td>\n",
       "        <td style=\"padding-left: 1em; padding-right: 1em; text-align: center; vertical-align: top\">A</td>\n",
       "        <td style=\"padding-left: 1em; padding-right: 1em; text-align: center; vertical-align: top\">2</td>\n",
       "        <td style=\"padding-left: 1em; padding-right: 1em; text-align: center; vertical-align: top\">0</td>\n",
       "        <td style=\"padding-left: 1em; padding-right: 1em; text-align: center; vertical-align: top\">3</td>\n",
       "    </tr>\n",
       "    <tr>\n",
       "        <td style=\"padding-left: 1em; padding-right: 1em; text-align: center; vertical-align: top\">1000001</td>\n",
       "        <td style=\"padding-left: 1em; padding-right: 1em; text-align: center; vertical-align: top\">P00248942</td>\n",
       "        <td style=\"padding-left: 1em; padding-right: 1em; text-align: center; vertical-align: top\">F</td>\n",
       "        <td style=\"padding-left: 1em; padding-right: 1em; text-align: center; vertical-align: top\">0-17</td>\n",
       "        <td style=\"padding-left: 1em; padding-right: 1em; text-align: center; vertical-align: top\">10</td>\n",
       "        <td style=\"padding-left: 1em; padding-right: 1em; text-align: center; vertical-align: top\">A</td>\n",
       "        <td style=\"padding-left: 1em; padding-right: 1em; text-align: center; vertical-align: top\">2</td>\n",
       "        <td style=\"padding-left: 1em; padding-right: 1em; text-align: center; vertical-align: top\">0</td>\n",
       "        <td style=\"padding-left: 1em; padding-right: 1em; text-align: center; vertical-align: top\">1</td>\n",
       "    </tr>\n",
       "    <tr>\n",
       "        <td style=\"padding-left: 1em; padding-right: 1em; text-align: center; vertical-align: top\">1000001</td>\n",
       "        <td style=\"padding-left: 1em; padding-right: 1em; text-align: center; vertical-align: top\">P00087842</td>\n",
       "        <td style=\"padding-left: 1em; padding-right: 1em; text-align: center; vertical-align: top\">F</td>\n",
       "        <td style=\"padding-left: 1em; padding-right: 1em; text-align: center; vertical-align: top\">0-17</td>\n",
       "        <td style=\"padding-left: 1em; padding-right: 1em; text-align: center; vertical-align: top\">10</td>\n",
       "        <td style=\"padding-left: 1em; padding-right: 1em; text-align: center; vertical-align: top\">A</td>\n",
       "        <td style=\"padding-left: 1em; padding-right: 1em; text-align: center; vertical-align: top\">2</td>\n",
       "        <td style=\"padding-left: 1em; padding-right: 1em; text-align: center; vertical-align: top\">0</td>\n",
       "        <td style=\"padding-left: 1em; padding-right: 1em; text-align: center; vertical-align: top\">12</td>\n",
       "    </tr>\n",
       "    <tr>\n",
       "        <td style=\"padding-left: 1em; padding-right: 1em; text-align: center; vertical-align: top\">1000001</td>\n",
       "        <td style=\"padding-left: 1em; padding-right: 1em; text-align: center; vertical-align: top\">P00085442</td>\n",
       "        <td style=\"padding-left: 1em; padding-right: 1em; text-align: center; vertical-align: top\">F</td>\n",
       "        <td style=\"padding-left: 1em; padding-right: 1em; text-align: center; vertical-align: top\">0-17</td>\n",
       "        <td style=\"padding-left: 1em; padding-right: 1em; text-align: center; vertical-align: top\">10</td>\n",
       "        <td style=\"padding-left: 1em; padding-right: 1em; text-align: center; vertical-align: top\">A</td>\n",
       "        <td style=\"padding-left: 1em; padding-right: 1em; text-align: center; vertical-align: top\">2</td>\n",
       "        <td style=\"padding-left: 1em; padding-right: 1em; text-align: center; vertical-align: top\">0</td>\n",
       "        <td style=\"padding-left: 1em; padding-right: 1em; text-align: center; vertical-align: top\">12</td>\n",
       "    </tr>\n",
       "    <tr>\n",
       "        <td style=\"padding-left: 1em; padding-right: 1em; text-align: center; vertical-align: top\">1000002</td>\n",
       "        <td style=\"padding-left: 1em; padding-right: 1em; text-align: center; vertical-align: top\">P00285442</td>\n",
       "        <td style=\"padding-left: 1em; padding-right: 1em; text-align: center; vertical-align: top\">M</td>\n",
       "        <td style=\"padding-left: 1em; padding-right: 1em; text-align: center; vertical-align: top\">55+</td>\n",
       "        <td style=\"padding-left: 1em; padding-right: 1em; text-align: center; vertical-align: top\">16</td>\n",
       "        <td style=\"padding-left: 1em; padding-right: 1em; text-align: center; vertical-align: top\">C</td>\n",
       "        <td style=\"padding-left: 1em; padding-right: 1em; text-align: center; vertical-align: top\">4+</td>\n",
       "        <td style=\"padding-left: 1em; padding-right: 1em; text-align: center; vertical-align: top\">0</td>\n",
       "        <td style=\"padding-left: 1em; padding-right: 1em; text-align: center; vertical-align: top\">8</td>\n",
       "    </tr>\n",
       "    <tr>\n",
       "        <td style=\"padding-left: 1em; padding-right: 1em; text-align: center; vertical-align: top\">1000003</td>\n",
       "        <td style=\"padding-left: 1em; padding-right: 1em; text-align: center; vertical-align: top\">P00193542</td>\n",
       "        <td style=\"padding-left: 1em; padding-right: 1em; text-align: center; vertical-align: top\">M</td>\n",
       "        <td style=\"padding-left: 1em; padding-right: 1em; text-align: center; vertical-align: top\">26-35</td>\n",
       "        <td style=\"padding-left: 1em; padding-right: 1em; text-align: center; vertical-align: top\">15</td>\n",
       "        <td style=\"padding-left: 1em; padding-right: 1em; text-align: center; vertical-align: top\">A</td>\n",
       "        <td style=\"padding-left: 1em; padding-right: 1em; text-align: center; vertical-align: top\">3</td>\n",
       "        <td style=\"padding-left: 1em; padding-right: 1em; text-align: center; vertical-align: top\">0</td>\n",
       "        <td style=\"padding-left: 1em; padding-right: 1em; text-align: center; vertical-align: top\">1</td>\n",
       "    </tr>\n",
       "    <tr>\n",
       "        <td style=\"padding-left: 1em; padding-right: 1em; text-align: center; vertical-align: top\">1000004</td>\n",
       "        <td style=\"padding-left: 1em; padding-right: 1em; text-align: center; vertical-align: top\">P00184942</td>\n",
       "        <td style=\"padding-left: 1em; padding-right: 1em; text-align: center; vertical-align: top\">M</td>\n",
       "        <td style=\"padding-left: 1em; padding-right: 1em; text-align: center; vertical-align: top\">46-50</td>\n",
       "        <td style=\"padding-left: 1em; padding-right: 1em; text-align: center; vertical-align: top\">7</td>\n",
       "        <td style=\"padding-left: 1em; padding-right: 1em; text-align: center; vertical-align: top\">B</td>\n",
       "        <td style=\"padding-left: 1em; padding-right: 1em; text-align: center; vertical-align: top\">2</td>\n",
       "        <td style=\"padding-left: 1em; padding-right: 1em; text-align: center; vertical-align: top\">1</td>\n",
       "        <td style=\"padding-left: 1em; padding-right: 1em; text-align: center; vertical-align: top\">1</td>\n",
       "    </tr>\n",
       "    <tr>\n",
       "        <td style=\"padding-left: 1em; padding-right: 1em; text-align: center; vertical-align: top\">1000004</td>\n",
       "        <td style=\"padding-left: 1em; padding-right: 1em; text-align: center; vertical-align: top\">P00346142</td>\n",
       "        <td style=\"padding-left: 1em; padding-right: 1em; text-align: center; vertical-align: top\">M</td>\n",
       "        <td style=\"padding-left: 1em; padding-right: 1em; text-align: center; vertical-align: top\">46-50</td>\n",
       "        <td style=\"padding-left: 1em; padding-right: 1em; text-align: center; vertical-align: top\">7</td>\n",
       "        <td style=\"padding-left: 1em; padding-right: 1em; text-align: center; vertical-align: top\">B</td>\n",
       "        <td style=\"padding-left: 1em; padding-right: 1em; text-align: center; vertical-align: top\">2</td>\n",
       "        <td style=\"padding-left: 1em; padding-right: 1em; text-align: center; vertical-align: top\">1</td>\n",
       "        <td style=\"padding-left: 1em; padding-right: 1em; text-align: center; vertical-align: top\">1</td>\n",
       "    </tr>\n",
       "    <tr>\n",
       "        <td style=\"padding-left: 1em; padding-right: 1em; text-align: center; vertical-align: top\">1000004</td>\n",
       "        <td style=\"padding-left: 1em; padding-right: 1em; text-align: center; vertical-align: top\">P0097242</td>\n",
       "        <td style=\"padding-left: 1em; padding-right: 1em; text-align: center; vertical-align: top\">M</td>\n",
       "        <td style=\"padding-left: 1em; padding-right: 1em; text-align: center; vertical-align: top\">46-50</td>\n",
       "        <td style=\"padding-left: 1em; padding-right: 1em; text-align: center; vertical-align: top\">7</td>\n",
       "        <td style=\"padding-left: 1em; padding-right: 1em; text-align: center; vertical-align: top\">B</td>\n",
       "        <td style=\"padding-left: 1em; padding-right: 1em; text-align: center; vertical-align: top\">2</td>\n",
       "        <td style=\"padding-left: 1em; padding-right: 1em; text-align: center; vertical-align: top\">1</td>\n",
       "        <td style=\"padding-left: 1em; padding-right: 1em; text-align: center; vertical-align: top\">1</td>\n",
       "    </tr>\n",
       "    <tr>\n",
       "        <td style=\"padding-left: 1em; padding-right: 1em; text-align: center; vertical-align: top\">1000005</td>\n",
       "        <td style=\"padding-left: 1em; padding-right: 1em; text-align: center; vertical-align: top\">P00274942</td>\n",
       "        <td style=\"padding-left: 1em; padding-right: 1em; text-align: center; vertical-align: top\">M</td>\n",
       "        <td style=\"padding-left: 1em; padding-right: 1em; text-align: center; vertical-align: top\">26-35</td>\n",
       "        <td style=\"padding-left: 1em; padding-right: 1em; text-align: center; vertical-align: top\">20</td>\n",
       "        <td style=\"padding-left: 1em; padding-right: 1em; text-align: center; vertical-align: top\">A</td>\n",
       "        <td style=\"padding-left: 1em; padding-right: 1em; text-align: center; vertical-align: top\">1</td>\n",
       "        <td style=\"padding-left: 1em; padding-right: 1em; text-align: center; vertical-align: top\">1</td>\n",
       "        <td style=\"padding-left: 1em; padding-right: 1em; text-align: center; vertical-align: top\">8</td>\n",
       "    </tr>\n",
       "</table>\n",
       "<table frame=\"box\" rules=\"cols\">\n",
       "    <tr>\n",
       "        <th style=\"padding-left: 1em; padding-right: 1em; text-align: center\">Product_Category_2</th>\n",
       "        <th style=\"padding-left: 1em; padding-right: 1em; text-align: center\">Product_Category_3</th>\n",
       "        <th style=\"padding-left: 1em; padding-right: 1em; text-align: center\">Purchase</th>\n",
       "    </tr>\n",
       "    <tr>\n",
       "        <td style=\"padding-left: 1em; padding-right: 1em; text-align: center; vertical-align: top\">None</td>\n",
       "        <td style=\"padding-left: 1em; padding-right: 1em; text-align: center; vertical-align: top\">None</td>\n",
       "        <td style=\"padding-left: 1em; padding-right: 1em; text-align: center; vertical-align: top\">8370</td>\n",
       "    </tr>\n",
       "    <tr>\n",
       "        <td style=\"padding-left: 1em; padding-right: 1em; text-align: center; vertical-align: top\">6</td>\n",
       "        <td style=\"padding-left: 1em; padding-right: 1em; text-align: center; vertical-align: top\">14</td>\n",
       "        <td style=\"padding-left: 1em; padding-right: 1em; text-align: center; vertical-align: top\">15200</td>\n",
       "    </tr>\n",
       "    <tr>\n",
       "        <td style=\"padding-left: 1em; padding-right: 1em; text-align: center; vertical-align: top\">None</td>\n",
       "        <td style=\"padding-left: 1em; padding-right: 1em; text-align: center; vertical-align: top\">None</td>\n",
       "        <td style=\"padding-left: 1em; padding-right: 1em; text-align: center; vertical-align: top\">1422</td>\n",
       "    </tr>\n",
       "    <tr>\n",
       "        <td style=\"padding-left: 1em; padding-right: 1em; text-align: center; vertical-align: top\">14</td>\n",
       "        <td style=\"padding-left: 1em; padding-right: 1em; text-align: center; vertical-align: top\">None</td>\n",
       "        <td style=\"padding-left: 1em; padding-right: 1em; text-align: center; vertical-align: top\">1057</td>\n",
       "    </tr>\n",
       "    <tr>\n",
       "        <td style=\"padding-left: 1em; padding-right: 1em; text-align: center; vertical-align: top\">None</td>\n",
       "        <td style=\"padding-left: 1em; padding-right: 1em; text-align: center; vertical-align: top\">None</td>\n",
       "        <td style=\"padding-left: 1em; padding-right: 1em; text-align: center; vertical-align: top\">7969</td>\n",
       "    </tr>\n",
       "    <tr>\n",
       "        <td style=\"padding-left: 1em; padding-right: 1em; text-align: center; vertical-align: top\">2</td>\n",
       "        <td style=\"padding-left: 1em; padding-right: 1em; text-align: center; vertical-align: top\">None</td>\n",
       "        <td style=\"padding-left: 1em; padding-right: 1em; text-align: center; vertical-align: top\">15227</td>\n",
       "    </tr>\n",
       "    <tr>\n",
       "        <td style=\"padding-left: 1em; padding-right: 1em; text-align: center; vertical-align: top\">8</td>\n",
       "        <td style=\"padding-left: 1em; padding-right: 1em; text-align: center; vertical-align: top\">17</td>\n",
       "        <td style=\"padding-left: 1em; padding-right: 1em; text-align: center; vertical-align: top\">19215</td>\n",
       "    </tr>\n",
       "    <tr>\n",
       "        <td style=\"padding-left: 1em; padding-right: 1em; text-align: center; vertical-align: top\">15</td>\n",
       "        <td style=\"padding-left: 1em; padding-right: 1em; text-align: center; vertical-align: top\">None</td>\n",
       "        <td style=\"padding-left: 1em; padding-right: 1em; text-align: center; vertical-align: top\">15854</td>\n",
       "    </tr>\n",
       "    <tr>\n",
       "        <td style=\"padding-left: 1em; padding-right: 1em; text-align: center; vertical-align: top\">16</td>\n",
       "        <td style=\"padding-left: 1em; padding-right: 1em; text-align: center; vertical-align: top\">None</td>\n",
       "        <td style=\"padding-left: 1em; padding-right: 1em; text-align: center; vertical-align: top\">15686</td>\n",
       "    </tr>\n",
       "    <tr>\n",
       "        <td style=\"padding-left: 1em; padding-right: 1em; text-align: center; vertical-align: top\">None</td>\n",
       "        <td style=\"padding-left: 1em; padding-right: 1em; text-align: center; vertical-align: top\">None</td>\n",
       "        <td style=\"padding-left: 1em; padding-right: 1em; text-align: center; vertical-align: top\">7871</td>\n",
       "    </tr>\n",
       "</table>\n",
       "[10 rows x 12 columns]<br/>\n",
       "</div>"
      ],
      "text/plain": [
       "Columns:\n",
       "\tUser_ID\tint\n",
       "\tProduct_ID\tstr\n",
       "\tGender\tstr\n",
       "\tAge\tstr\n",
       "\tOccupation\tint\n",
       "\tCity_Category\tstr\n",
       "\tStay_In_Current_City_Years\tstr\n",
       "\tMarital_Status\tint\n",
       "\tProduct_Category_1\tint\n",
       "\tProduct_Category_2\tint\n",
       "\tProduct_Category_3\tint\n",
       "\tPurchase\tint\n",
       "\n",
       "Rows: 10\n",
       "\n",
       "Data:\n",
       "+---------+------------+--------+-------+------------+---------------+----------------------------+\n",
       "| User_ID | Product_ID | Gender |  Age  | Occupation | City_Category | Stay_In_Current_City_Years |\n",
       "+---------+------------+--------+-------+------------+---------------+----------------------------+\n",
       "| 1000001 | P00069042  |   F    |  0-17 |     10     |       A       |             2              |\n",
       "| 1000001 | P00248942  |   F    |  0-17 |     10     |       A       |             2              |\n",
       "| 1000001 | P00087842  |   F    |  0-17 |     10     |       A       |             2              |\n",
       "| 1000001 | P00085442  |   F    |  0-17 |     10     |       A       |             2              |\n",
       "| 1000002 | P00285442  |   M    |  55+  |     16     |       C       |             4+             |\n",
       "| 1000003 | P00193542  |   M    | 26-35 |     15     |       A       |             3              |\n",
       "| 1000004 | P00184942  |   M    | 46-50 |     7      |       B       |             2              |\n",
       "| 1000004 | P00346142  |   M    | 46-50 |     7      |       B       |             2              |\n",
       "| 1000004 |  P0097242  |   M    | 46-50 |     7      |       B       |             2              |\n",
       "| 1000005 | P00274942  |   M    | 26-35 |     20     |       A       |             1              |\n",
       "+---------+------------+--------+-------+------------+---------------+----------------------------+\n",
       "+----------------+--------------------+--------------------+--------------------+\n",
       "| Marital_Status | Product_Category_1 | Product_Category_2 | Product_Category_3 |\n",
       "+----------------+--------------------+--------------------+--------------------+\n",
       "|       0        |         3          |        None        |        None        |\n",
       "|       0        |         1          |         6          |         14         |\n",
       "|       0        |         12         |        None        |        None        |\n",
       "|       0        |         12         |         14         |        None        |\n",
       "|       0        |         8          |        None        |        None        |\n",
       "|       0        |         1          |         2          |        None        |\n",
       "|       1        |         1          |         8          |         17         |\n",
       "|       1        |         1          |         15         |        None        |\n",
       "|       1        |         1          |         16         |        None        |\n",
       "|       1        |         8          |        None        |        None        |\n",
       "+----------------+--------------------+--------------------+--------------------+\n",
       "+----------+\n",
       "| Purchase |\n",
       "+----------+\n",
       "|   8370   |\n",
       "|  15200   |\n",
       "|   1422   |\n",
       "|   1057   |\n",
       "|   7969   |\n",
       "|  15227   |\n",
       "|  19215   |\n",
       "|  15854   |\n",
       "|  15686   |\n",
       "|   7871   |\n",
       "+----------+\n",
       "[10 rows x 12 columns]"
      ]
     },
     "execution_count": 9,
     "metadata": {},
     "output_type": "execute_result"
    }
   ],
   "source": [
    "train.head()"
   ]
  },
  {
   "cell_type": "code",
   "execution_count": 6,
   "metadata": {},
   "outputs": [
    {
     "data": {
      "text/plain": [
       "['User_ID',\n",
       " 'Product_ID',\n",
       " 'Gender',\n",
       " 'Age',\n",
       " 'Occupation',\n",
       " 'City_Category',\n",
       " 'Stay_In_Current_City_Years',\n",
       " 'Marital_Status',\n",
       " 'Product_Category_1',\n",
       " 'Product_Category_2',\n",
       " 'Product_Category_3',\n",
       " 'Purchase']"
      ]
     },
     "execution_count": 6,
     "metadata": {},
     "output_type": "execute_result"
    }
   ],
   "source": [
    "train.column_names()"
   ]
  },
  {
   "cell_type": "code",
   "execution_count": 10,
   "metadata": {},
   "outputs": [
    {
     "data": {
      "text/plain": [
       "['User_ID',\n",
       " 'Product_ID',\n",
       " 'Gender',\n",
       " 'Age',\n",
       " 'Occupation',\n",
       " 'City_Category',\n",
       " 'Stay_In_Current_City_Years',\n",
       " 'Marital_Status',\n",
       " 'Product_Category_1',\n",
       " 'Product_Category_2',\n",
       " 'Product_Category_3']"
      ]
     },
     "execution_count": 10,
     "metadata": {},
     "output_type": "execute_result"
    }
   ],
   "source": [
    "test.column_names() # we have to predict 'Purchase' for test data also. But here i'll be using the recomme\n",
    "                    # nder approach"
   ]
  },
  {
   "cell_type": "code",
   "execution_count": 11,
   "metadata": {
    "collapsed": true
   },
   "outputs": [],
   "source": [
    "# converting Purchase data to float from previous string\n",
    "train['Purchase']=train['Purchase'].astype(float)"
   ]
  },
  {
   "cell_type": "markdown",
   "metadata": {},
   "source": [
    "## Setting 3 datasets with similar hyperparameters"
   ]
  },
  {
   "cell_type": "code",
   "execution_count": 16,
   "metadata": {
    "collapsed": true
   },
   "outputs": [],
   "source": [
    "train_base=graphlab.SFrame({'user_id':train['User_ID'],'item_id':train['Product_ID'],'Purchase':train['Purchase']})\n",
    "train_user=graphlab.SFrame({'user_id':train['User_ID'],'Gender':train['Gender'],'Age':train['Age'],'Occupation':train['Occupation'],'City_Category':train['City_Category'],'Stay_In_Current_City_Years':train['Stay_In_Current_City_Years'],'Marital_Status':train[ 'Marital_Status']})\n",
    "train_product=graphlab.SFrame({'item_id':train['Product_ID'],'Product_Category_1':train['Product_Category_1']})\n",
    "\n",
    "test_base=graphlab.SFrame({'user_id':test['User_ID'],'item_id':test['Product_ID']})\n",
    "test_user=graphlab.SFrame({'user_id':test['User_ID'],'Gender':test['Gender'],'Age':test['Age'],'Occupation':test['Occupation'],'City_Category':test['City_Category'],'Stay_In_Current_City_Years':test['Stay_In_Current_City_Years'],'Marital_Status':test[ 'Marital_Status']})\n",
    "test_product=graphlab.SFrame({'item_id':test['Product_ID'],'Product_Category_1':test['Product_Category_1']})"
   ]
  },
  {
   "cell_type": "markdown",
   "metadata": {},
   "source": [
    "### Model1"
   ]
  },
  {
   "cell_type": "code",
   "execution_count": 15,
   "metadata": {},
   "outputs": [
    {
     "data": {
      "text/html": [
       "<pre>Recsys training: model = factorization_recommender</pre>"
      ],
      "text/plain": [
       "Recsys training: model = factorization_recommender"
      ]
     },
     "metadata": {},
     "output_type": "display_data"
    },
    {
     "data": {
      "text/html": [
       "<pre>Preparing data set.</pre>"
      ],
      "text/plain": [
       "Preparing data set."
      ]
     },
     "metadata": {},
     "output_type": "display_data"
    },
    {
     "data": {
      "text/html": [
       "<pre>    Data has 550068 observations with 5891 users and 3631 items.</pre>"
      ],
      "text/plain": [
       "    Data has 550068 observations with 5891 users and 3631 items."
      ]
     },
     "metadata": {},
     "output_type": "display_data"
    },
    {
     "data": {
      "text/html": [
       "<pre>    Data prepared in: 2.15748s</pre>"
      ],
      "text/plain": [
       "    Data prepared in: 2.15748s"
      ]
     },
     "metadata": {},
     "output_type": "display_data"
    },
    {
     "data": {
      "text/html": [
       "<pre>Training factorization_recommender for recommendations.</pre>"
      ],
      "text/plain": [
       "Training factorization_recommender for recommendations."
      ]
     },
     "metadata": {},
     "output_type": "display_data"
    },
    {
     "data": {
      "text/html": [
       "<pre>+--------------------------------+--------------------------------------------------+----------+</pre>"
      ],
      "text/plain": [
       "+--------------------------------+--------------------------------------------------+----------+"
      ]
     },
     "metadata": {},
     "output_type": "display_data"
    },
    {
     "data": {
      "text/html": [
       "<pre>| Parameter                      | Description                                      | Value    |</pre>"
      ],
      "text/plain": [
       "| Parameter                      | Description                                      | Value    |"
      ]
     },
     "metadata": {},
     "output_type": "display_data"
    },
    {
     "data": {
      "text/html": [
       "<pre>+--------------------------------+--------------------------------------------------+----------+</pre>"
      ],
      "text/plain": [
       "+--------------------------------+--------------------------------------------------+----------+"
      ]
     },
     "metadata": {},
     "output_type": "display_data"
    },
    {
     "data": {
      "text/html": [
       "<pre>| num_factors                    | Factor Dimension                                 | 70       |</pre>"
      ],
      "text/plain": [
       "| num_factors                    | Factor Dimension                                 | 70       |"
      ]
     },
     "metadata": {},
     "output_type": "display_data"
    },
    {
     "data": {
      "text/html": [
       "<pre>| regularization                 | L2 Regularization on Factors                     | 1e-008   |</pre>"
      ],
      "text/plain": [
       "| regularization                 | L2 Regularization on Factors                     | 1e-008   |"
      ]
     },
     "metadata": {},
     "output_type": "display_data"
    },
    {
     "data": {
      "text/html": [
       "<pre>| solver                         | Solver used for training                         | adagrad  |</pre>"
      ],
      "text/plain": [
       "| solver                         | Solver used for training                         | adagrad  |"
      ]
     },
     "metadata": {},
     "output_type": "display_data"
    },
    {
     "data": {
      "text/html": [
       "<pre>| linear_regularization          | L2 Regularization on Linear Coefficients         | 1e-010   |</pre>"
      ],
      "text/plain": [
       "| linear_regularization          | L2 Regularization on Linear Coefficients         | 1e-010   |"
      ]
     },
     "metadata": {},
     "output_type": "display_data"
    },
    {
     "data": {
      "text/html": [
       "<pre>| side_data_factorization        | Assign Factors for Side Data                     | True     |</pre>"
      ],
      "text/plain": [
       "| side_data_factorization        | Assign Factors for Side Data                     | True     |"
      ]
     },
     "metadata": {},
     "output_type": "display_data"
    },
    {
     "data": {
      "text/html": [
       "<pre>| max_iterations                 | Maximum Number of Iterations                     | 50       |</pre>"
      ],
      "text/plain": [
       "| max_iterations                 | Maximum Number of Iterations                     | 50       |"
      ]
     },
     "metadata": {},
     "output_type": "display_data"
    },
    {
     "data": {
      "text/html": [
       "<pre>+--------------------------------+--------------------------------------------------+----------+</pre>"
      ],
      "text/plain": [
       "+--------------------------------+--------------------------------------------------+----------+"
      ]
     },
     "metadata": {},
     "output_type": "display_data"
    },
    {
     "data": {
      "text/html": [
       "<pre>  Optimizing model using SGD; tuning step size.</pre>"
      ],
      "text/plain": [
       "  Optimizing model using SGD; tuning step size."
      ]
     },
     "metadata": {},
     "output_type": "display_data"
    },
    {
     "data": {
      "text/html": [
       "<pre>  Using 68758 / 550068 points for tuning the step size.</pre>"
      ],
      "text/plain": [
       "  Using 68758 / 550068 points for tuning the step size."
      ]
     },
     "metadata": {},
     "output_type": "display_data"
    },
    {
     "data": {
      "text/html": [
       "<pre>+---------+-------------------+------------------------------------------+</pre>"
      ],
      "text/plain": [
       "+---------+-------------------+------------------------------------------+"
      ]
     },
     "metadata": {},
     "output_type": "display_data"
    },
    {
     "data": {
      "text/html": [
       "<pre>| Attempt | Initial Step Size | Estimated Objective Value                |</pre>"
      ],
      "text/plain": [
       "| Attempt | Initial Step Size | Estimated Objective Value                |"
      ]
     },
     "metadata": {},
     "output_type": "display_data"
    },
    {
     "data": {
      "text/html": [
       "<pre>+---------+-------------------+------------------------------------------+</pre>"
      ],
      "text/plain": [
       "+---------+-------------------+------------------------------------------+"
      ]
     },
     "metadata": {},
     "output_type": "display_data"
    },
    {
     "data": {
      "text/html": [
       "<pre>| 0       | 5.55556           | 9.65258e+006                             |</pre>"
      ],
      "text/plain": [
       "| 0       | 5.55556           | 9.65258e+006                             |"
      ]
     },
     "metadata": {},
     "output_type": "display_data"
    },
    {
     "data": {
      "text/html": [
       "<pre>| 1       | 2.77778           | 4.76494e+006                             |</pre>"
      ],
      "text/plain": [
       "| 1       | 2.77778           | 4.76494e+006                             |"
      ]
     },
     "metadata": {},
     "output_type": "display_data"
    },
    {
     "data": {
      "text/html": [
       "<pre>| 2       | 1.38889           | Not Viable                               |</pre>"
      ],
      "text/plain": [
       "| 2       | 1.38889           | Not Viable                               |"
      ]
     },
     "metadata": {},
     "output_type": "display_data"
    },
    {
     "data": {
      "text/html": [
       "<pre>| 3       | 0.347222          | 9.77497e+006                             |</pre>"
      ],
      "text/plain": [
       "| 3       | 0.347222          | 9.77497e+006                             |"
      ]
     },
     "metadata": {},
     "output_type": "display_data"
    },
    {
     "data": {
      "text/html": [
       "<pre>+---------+-------------------+------------------------------------------+</pre>"
      ],
      "text/plain": [
       "+---------+-------------------+------------------------------------------+"
      ]
     },
     "metadata": {},
     "output_type": "display_data"
    },
    {
     "data": {
      "text/html": [
       "<pre>| Final   | 2.77778           | 4.76494e+006                             |</pre>"
      ],
      "text/plain": [
       "| Final   | 2.77778           | 4.76494e+006                             |"
      ]
     },
     "metadata": {},
     "output_type": "display_data"
    },
    {
     "data": {
      "text/html": [
       "<pre>+---------+-------------------+------------------------------------------+</pre>"
      ],
      "text/plain": [
       "+---------+-------------------+------------------------------------------+"
      ]
     },
     "metadata": {},
     "output_type": "display_data"
    },
    {
     "data": {
      "text/html": [
       "<pre>Starting Optimization.</pre>"
      ],
      "text/plain": [
       "Starting Optimization."
      ]
     },
     "metadata": {},
     "output_type": "display_data"
    },
    {
     "data": {
      "text/html": [
       "<pre>+---------+--------------+-------------------+-----------------------+-------------+</pre>"
      ],
      "text/plain": [
       "+---------+--------------+-------------------+-----------------------+-------------+"
      ]
     },
     "metadata": {},
     "output_type": "display_data"
    },
    {
     "data": {
      "text/html": [
       "<pre>| Iter.   | Elapsed Time | Approx. Objective | Approx. Training RMSE | Step Size   |</pre>"
      ],
      "text/plain": [
       "| Iter.   | Elapsed Time | Approx. Objective | Approx. Training RMSE | Step Size   |"
      ]
     },
     "metadata": {},
     "output_type": "display_data"
    },
    {
     "data": {
      "text/html": [
       "<pre>+---------+--------------+-------------------+-----------------------+-------------+</pre>"
      ],
      "text/plain": [
       "+---------+--------------+-------------------+-----------------------+-------------+"
      ]
     },
     "metadata": {},
     "output_type": "display_data"
    },
    {
     "data": {
      "text/html": [
       "<pre>| Initial | 0us          | 2.52311e+007      | 5023.06               |             |</pre>"
      ],
      "text/plain": [
       "| Initial | 0us          | 2.52311e+007      | 5023.06               |             |"
      ]
     },
     "metadata": {},
     "output_type": "display_data"
    },
    {
     "data": {
      "text/html": [
       "<pre>+---------+--------------+-------------------+-----------------------+-------------+</pre>"
      ],
      "text/plain": [
       "+---------+--------------+-------------------+-----------------------+-------------+"
      ]
     },
     "metadata": {},
     "output_type": "display_data"
    },
    {
     "data": {
      "text/html": [
       "<pre>| 1       | 1.43s        | 7.55836e+006      | 2749.25               | 2.77778     |</pre>"
      ],
      "text/plain": [
       "| 1       | 1.43s        | 7.55836e+006      | 2749.25               | 2.77778     |"
      ]
     },
     "metadata": {},
     "output_type": "display_data"
    },
    {
     "data": {
      "text/html": [
       "<pre>| 2       | 2.74s        | 6.23935e+006      | 2497.87               | 2.77778     |</pre>"
      ],
      "text/plain": [
       "| 2       | 2.74s        | 6.23935e+006      | 2497.87               | 2.77778     |"
      ]
     },
     "metadata": {},
     "output_type": "display_data"
    },
    {
     "data": {
      "text/html": [
       "<pre>| 3       | 4.04s        | 5.91657e+006      | 2432.4                | 2.77778     |</pre>"
      ],
      "text/plain": [
       "| 3       | 4.04s        | 5.91657e+006      | 2432.4                | 2.77778     |"
      ]
     },
     "metadata": {},
     "output_type": "display_data"
    },
    {
     "data": {
      "text/html": [
       "<pre>| 4       | 5.32s        | 5.71344e+006      | 2390.28               | 2.77778     |</pre>"
      ],
      "text/plain": [
       "| 4       | 5.32s        | 5.71344e+006      | 2390.28               | 2.77778     |"
      ]
     },
     "metadata": {},
     "output_type": "display_data"
    },
    {
     "data": {
      "text/html": [
       "<pre>| 5       | 6.61s        | 5.57942e+006      | 2362.08               | 2.77778     |</pre>"
      ],
      "text/plain": [
       "| 5       | 6.61s        | 5.57942e+006      | 2362.08               | 2.77778     |"
      ]
     },
     "metadata": {},
     "output_type": "display_data"
    },
    {
     "data": {
      "text/html": [
       "<pre>| 6       | 7.88s        | 5.46577e+006      | 2337.9                | 2.77778     |</pre>"
      ],
      "text/plain": [
       "| 6       | 7.88s        | 5.46577e+006      | 2337.9                | 2.77778     |"
      ]
     },
     "metadata": {},
     "output_type": "display_data"
    },
    {
     "data": {
      "text/html": [
       "<pre>| 7       | 9.15s        | 5.37318e+006      | 2318.01               | 2.77778     |</pre>"
      ],
      "text/plain": [
       "| 7       | 9.15s        | 5.37318e+006      | 2318.01               | 2.77778     |"
      ]
     },
     "metadata": {},
     "output_type": "display_data"
    },
    {
     "data": {
      "text/html": [
       "<pre>| 8       | 10.53s       | 5.28958e+006      | 2299.91               | 2.77778     |</pre>"
      ],
      "text/plain": [
       "| 8       | 10.53s       | 5.28958e+006      | 2299.91               | 2.77778     |"
      ]
     },
     "metadata": {},
     "output_type": "display_data"
    },
    {
     "data": {
      "text/html": [
       "<pre>| 9       | 11.82s       | 5.2255e+006       | 2285.93               | 2.77778     |</pre>"
      ],
      "text/plain": [
       "| 9       | 11.82s       | 5.2255e+006       | 2285.93               | 2.77778     |"
      ]
     },
     "metadata": {},
     "output_type": "display_data"
    },
    {
     "data": {
      "text/html": [
       "<pre>| 10      | 13.32s       | 5.16414e+006      | 2272.47               | 2.77778     |</pre>"
      ],
      "text/plain": [
       "| 10      | 13.32s       | 5.16414e+006      | 2272.47               | 2.77778     |"
      ]
     },
     "metadata": {},
     "output_type": "display_data"
    },
    {
     "data": {
      "text/html": [
       "<pre>| 11      | 14.69s       | 5.10842e+006      | 2260.18               | 2.77778     |</pre>"
      ],
      "text/plain": [
       "| 11      | 14.69s       | 5.10842e+006      | 2260.18               | 2.77778     |"
      ]
     },
     "metadata": {},
     "output_type": "display_data"
    },
    {
     "data": {
      "text/html": [
       "<pre>| 12      | 16.03s       | 5.05295e+006      | 2247.88               | 2.77778     |</pre>"
      ],
      "text/plain": [
       "| 12      | 16.03s       | 5.05295e+006      | 2247.88               | 2.77778     |"
      ]
     },
     "metadata": {},
     "output_type": "display_data"
    },
    {
     "data": {
      "text/html": [
       "<pre>| 13      | 17.34s       | 5.00513e+006      | 2237.22               | 2.77778     |</pre>"
      ],
      "text/plain": [
       "| 13      | 17.34s       | 5.00513e+006      | 2237.22               | 2.77778     |"
      ]
     },
     "metadata": {},
     "output_type": "display_data"
    },
    {
     "data": {
      "text/html": [
       "<pre>| 14      | 18.79s       | 4.95782e+006      | 2226.62               | 2.77778     |</pre>"
      ],
      "text/plain": [
       "| 14      | 18.79s       | 4.95782e+006      | 2226.62               | 2.77778     |"
      ]
     },
     "metadata": {},
     "output_type": "display_data"
    },
    {
     "data": {
      "text/html": [
       "<pre>| 15      | 20.25s       | 4.91247e+006      | 2216.41               | 2.77778     |</pre>"
      ],
      "text/plain": [
       "| 15      | 20.25s       | 4.91247e+006      | 2216.41               | 2.77778     |"
      ]
     },
     "metadata": {},
     "output_type": "display_data"
    },
    {
     "data": {
      "text/html": [
       "<pre>| 16      | 21.65s       | 4.87084e+006      | 2207                  | 2.77778     |</pre>"
      ],
      "text/plain": [
       "| 16      | 21.65s       | 4.87084e+006      | 2207                  | 2.77778     |"
      ]
     },
     "metadata": {},
     "output_type": "display_data"
    },
    {
     "data": {
      "text/html": [
       "<pre>| 17      | 22.99s       | 4.82812e+006      | 2197.3                | 2.77778     |</pre>"
      ],
      "text/plain": [
       "| 17      | 22.99s       | 4.82812e+006      | 2197.3                | 2.77778     |"
      ]
     },
     "metadata": {},
     "output_type": "display_data"
    },
    {
     "data": {
      "text/html": [
       "<pre>| 18      | 24.27s       | 4.78448e+006      | 2187.34               | 2.77778     |</pre>"
      ],
      "text/plain": [
       "| 18      | 24.27s       | 4.78448e+006      | 2187.34               | 2.77778     |"
      ]
     },
     "metadata": {},
     "output_type": "display_data"
    },
    {
     "data": {
      "text/html": [
       "<pre>| 19      | 25.51s       | 4.74459e+006      | 2178.21               | 2.77778     |</pre>"
      ],
      "text/plain": [
       "| 19      | 25.51s       | 4.74459e+006      | 2178.21               | 2.77778     |"
      ]
     },
     "metadata": {},
     "output_type": "display_data"
    },
    {
     "data": {
      "text/html": [
       "<pre>| 20      | 26.85s       | 4.70648e+006      | 2169.44               | 2.77778     |</pre>"
      ],
      "text/plain": [
       "| 20      | 26.85s       | 4.70648e+006      | 2169.44               | 2.77778     |"
      ]
     },
     "metadata": {},
     "output_type": "display_data"
    },
    {
     "data": {
      "text/html": [
       "<pre>| 21      | 28.16s       | 4.66766e+006      | 2160.48               | 2.77778     |</pre>"
      ],
      "text/plain": [
       "| 21      | 28.16s       | 4.66766e+006      | 2160.48               | 2.77778     |"
      ]
     },
     "metadata": {},
     "output_type": "display_data"
    },
    {
     "data": {
      "text/html": [
       "<pre>| 22      | 29.67s       | 4.63303e+006      | 2152.45               | 2.77778     |</pre>"
      ],
      "text/plain": [
       "| 22      | 29.67s       | 4.63303e+006      | 2152.45               | 2.77778     |"
      ]
     },
     "metadata": {},
     "output_type": "display_data"
    },
    {
     "data": {
      "text/html": [
       "<pre>| 23      | 31.12s       | 4.59574e+006      | 2143.77               | 2.77778     |</pre>"
      ],
      "text/plain": [
       "| 23      | 31.12s       | 4.59574e+006      | 2143.77               | 2.77778     |"
      ]
     },
     "metadata": {},
     "output_type": "display_data"
    },
    {
     "data": {
      "text/html": [
       "<pre>| 24      | 33.47s       | 4.55708e+006      | 2134.73               | 2.77778     |</pre>"
      ],
      "text/plain": [
       "| 24      | 33.47s       | 4.55708e+006      | 2134.73               | 2.77778     |"
      ]
     },
     "metadata": {},
     "output_type": "display_data"
    },
    {
     "data": {
      "text/html": [
       "<pre>| 25      | 34.97s       | 4.52453e+006      | 2127.09               | 2.77778     |</pre>"
      ],
      "text/plain": [
       "| 25      | 34.97s       | 4.52453e+006      | 2127.09               | 2.77778     |"
      ]
     },
     "metadata": {},
     "output_type": "display_data"
    },
    {
     "data": {
      "text/html": [
       "<pre>| 26      | 36.51s       | 4.48968e+006      | 2118.89               | 2.77778     |</pre>"
      ],
      "text/plain": [
       "| 26      | 36.51s       | 4.48968e+006      | 2118.89               | 2.77778     |"
      ]
     },
     "metadata": {},
     "output_type": "display_data"
    },
    {
     "data": {
      "text/html": [
       "<pre>| 27      | 37.92s       | 4.4577e+006       | 2111.33               | 2.77778     |</pre>"
      ],
      "text/plain": [
       "| 27      | 37.92s       | 4.4577e+006       | 2111.33               | 2.77778     |"
      ]
     },
     "metadata": {},
     "output_type": "display_data"
    },
    {
     "data": {
      "text/html": [
       "<pre>| 28      | 39.31s       | 4.42424e+006      | 2103.39               | 2.77778     |</pre>"
      ],
      "text/plain": [
       "| 28      | 39.31s       | 4.42424e+006      | 2103.39               | 2.77778     |"
      ]
     },
     "metadata": {},
     "output_type": "display_data"
    },
    {
     "data": {
      "text/html": [
       "<pre>| 29      | 40.69s       | 4.38942e+006      | 2095.09               | 2.77778     |</pre>"
      ],
      "text/plain": [
       "| 29      | 40.69s       | 4.38942e+006      | 2095.09               | 2.77778     |"
      ]
     },
     "metadata": {},
     "output_type": "display_data"
    },
    {
     "data": {
      "text/html": [
       "<pre>| 30      | 42.24s       | 4.3589e+006       | 2087.8                | 2.77778     |</pre>"
      ],
      "text/plain": [
       "| 30      | 42.24s       | 4.3589e+006       | 2087.8                | 2.77778     |"
      ]
     },
     "metadata": {},
     "output_type": "display_data"
    },
    {
     "data": {
      "text/html": [
       "<pre>| 31      | 43.73s       | 4.32763e+006      | 2080.3                | 2.77778     |</pre>"
      ],
      "text/plain": [
       "| 31      | 43.73s       | 4.32763e+006      | 2080.3                | 2.77778     |"
      ]
     },
     "metadata": {},
     "output_type": "display_data"
    },
    {
     "data": {
      "text/html": [
       "<pre>| 32      | 45.25s       | 4.29355e+006      | 2072.09               | 2.77778     |</pre>"
      ],
      "text/plain": [
       "| 32      | 45.25s       | 4.29355e+006      | 2072.09               | 2.77778     |"
      ]
     },
     "metadata": {},
     "output_type": "display_data"
    },
    {
     "data": {
      "text/html": [
       "<pre>| 33      | 46.56s       | 4.26466e+006      | 2065.11               | 2.77778     |</pre>"
      ],
      "text/plain": [
       "| 33      | 46.56s       | 4.26466e+006      | 2065.11               | 2.77778     |"
      ]
     },
     "metadata": {},
     "output_type": "display_data"
    },
    {
     "data": {
      "text/html": [
       "<pre>| 34      | 47.82s       | 4.23504e+006      | 2057.92               | 2.77778     |</pre>"
      ],
      "text/plain": [
       "| 34      | 47.82s       | 4.23504e+006      | 2057.92               | 2.77778     |"
      ]
     },
     "metadata": {},
     "output_type": "display_data"
    },
    {
     "data": {
      "text/html": [
       "<pre>| 35      | 49.21s       | 4.20797e+006      | 2051.33               | 2.77778     |</pre>"
      ],
      "text/plain": [
       "| 35      | 49.21s       | 4.20797e+006      | 2051.33               | 2.77778     |"
      ]
     },
     "metadata": {},
     "output_type": "display_data"
    },
    {
     "data": {
      "text/html": [
       "<pre>| 36      | 50.60s       | 4.18293e+006      | 2045.22               | 2.77778     |</pre>"
      ],
      "text/plain": [
       "| 36      | 50.60s       | 4.18293e+006      | 2045.22               | 2.77778     |"
      ]
     },
     "metadata": {},
     "output_type": "display_data"
    },
    {
     "data": {
      "text/html": [
       "<pre>| 37      | 52.00s       | 4.15612e+006      | 2038.66               | 2.77778     |</pre>"
      ],
      "text/plain": [
       "| 37      | 52.00s       | 4.15612e+006      | 2038.66               | 2.77778     |"
      ]
     },
     "metadata": {},
     "output_type": "display_data"
    },
    {
     "data": {
      "text/html": [
       "<pre>| 38      | 53.34s       | 4.12847e+006      | 2031.86               | 2.77778     |</pre>"
      ],
      "text/plain": [
       "| 38      | 53.34s       | 4.12847e+006      | 2031.86               | 2.77778     |"
      ]
     },
     "metadata": {},
     "output_type": "display_data"
    },
    {
     "data": {
      "text/html": [
       "<pre>| 39      | 54.64s       | 4.09954e+006      | 2024.73               | 2.77778     |</pre>"
      ],
      "text/plain": [
       "| 39      | 54.64s       | 4.09954e+006      | 2024.73               | 2.77778     |"
      ]
     },
     "metadata": {},
     "output_type": "display_data"
    },
    {
     "data": {
      "text/html": [
       "<pre>| 40      | 56.00s       | 4.0712e+006       | 2017.72               | 2.77778     |</pre>"
      ],
      "text/plain": [
       "| 40      | 56.00s       | 4.0712e+006       | 2017.72               | 2.77778     |"
      ]
     },
     "metadata": {},
     "output_type": "display_data"
    },
    {
     "data": {
      "text/html": [
       "<pre>| 41      | 57.32s       | 4.04356e+006      | 2010.86               | 2.77778     |</pre>"
      ],
      "text/plain": [
       "| 41      | 57.32s       | 4.04356e+006      | 2010.86               | 2.77778     |"
      ]
     },
     "metadata": {},
     "output_type": "display_data"
    },
    {
     "data": {
      "text/html": [
       "<pre>| 42      | 58.69s       | 4.01753e+006      | 2004.38               | 2.77778     |</pre>"
      ],
      "text/plain": [
       "| 42      | 58.69s       | 4.01753e+006      | 2004.38               | 2.77778     |"
      ]
     },
     "metadata": {},
     "output_type": "display_data"
    },
    {
     "data": {
      "text/html": [
       "<pre>| 43      | 1m 0s        | 3.9919e+006       | 1997.97               | 2.77778     |</pre>"
      ],
      "text/plain": [
       "| 43      | 1m 0s        | 3.9919e+006       | 1997.97               | 2.77778     |"
      ]
     },
     "metadata": {},
     "output_type": "display_data"
    },
    {
     "data": {
      "text/html": [
       "<pre>| 44      | 1m 1s        | 3.96631e+006      | 1991.56               | 2.77778     |</pre>"
      ],
      "text/plain": [
       "| 44      | 1m 1s        | 3.96631e+006      | 1991.56               | 2.77778     |"
      ]
     },
     "metadata": {},
     "output_type": "display_data"
    },
    {
     "data": {
      "text/html": [
       "<pre>| 45      | 1m 3s        | 3.94168e+006      | 1985.37               | 2.77778     |</pre>"
      ],
      "text/plain": [
       "| 45      | 1m 3s        | 3.94168e+006      | 1985.37               | 2.77778     |"
      ]
     },
     "metadata": {},
     "output_type": "display_data"
    },
    {
     "data": {
      "text/html": [
       "<pre>| 46      | 1m 4s        | 3.91742e+006      | 1979.25               | 2.77778     |</pre>"
      ],
      "text/plain": [
       "| 46      | 1m 4s        | 3.91742e+006      | 1979.25               | 2.77778     |"
      ]
     },
     "metadata": {},
     "output_type": "display_data"
    },
    {
     "data": {
      "text/html": [
       "<pre>| 47      | 1m 6s        | 3.89035e+006      | 1972.4                | 2.77778     |</pre>"
      ],
      "text/plain": [
       "| 47      | 1m 6s        | 3.89035e+006      | 1972.4                | 2.77778     |"
      ]
     },
     "metadata": {},
     "output_type": "display_data"
    },
    {
     "data": {
      "text/html": [
       "<pre>| 48      | 1m 7s        | 3.86945e+006      | 1967.09               | 2.77778     |</pre>"
      ],
      "text/plain": [
       "| 48      | 1m 7s        | 3.86945e+006      | 1967.09               | 2.77778     |"
      ]
     },
     "metadata": {},
     "output_type": "display_data"
    },
    {
     "data": {
      "text/html": [
       "<pre>| 49      | 1m 8s        | 3.84575e+006      | 1961.06               | 2.77778     |</pre>"
      ],
      "text/plain": [
       "| 49      | 1m 8s        | 3.84575e+006      | 1961.06               | 2.77778     |"
      ]
     },
     "metadata": {},
     "output_type": "display_data"
    },
    {
     "data": {
      "text/html": [
       "<pre>| 50      | 1m 10s       | 3.82449e+006      | 1955.63               | 2.77778     |</pre>"
      ],
      "text/plain": [
       "| 50      | 1m 10s       | 3.82449e+006      | 1955.63               | 2.77778     |"
      ]
     },
     "metadata": {},
     "output_type": "display_data"
    },
    {
     "data": {
      "text/html": [
       "<pre>+---------+--------------+-------------------+-----------------------+-------------+</pre>"
      ],
      "text/plain": [
       "+---------+--------------+-------------------+-----------------------+-------------+"
      ]
     },
     "metadata": {},
     "output_type": "display_data"
    },
    {
     "data": {
      "text/html": [
       "<pre>Optimization Complete: Maximum number of passes through the data reached.</pre>"
      ],
      "text/plain": [
       "Optimization Complete: Maximum number of passes through the data reached."
      ]
     },
     "metadata": {},
     "output_type": "display_data"
    },
    {
     "data": {
      "text/html": [
       "<pre>Computing final objective value and training RMSE.</pre>"
      ],
      "text/plain": [
       "Computing final objective value and training RMSE."
      ]
     },
     "metadata": {},
     "output_type": "display_data"
    },
    {
     "data": {
      "text/html": [
       "<pre>       Final objective value: 3.70872e+006</pre>"
      ],
      "text/plain": [
       "       Final objective value: 3.70872e+006"
      ]
     },
     "metadata": {},
     "output_type": "display_data"
    },
    {
     "data": {
      "text/html": [
       "<pre>       Final training RMSE: 1925.8</pre>"
      ],
      "text/plain": [
       "       Final training RMSE: 1925.8"
      ]
     },
     "metadata": {},
     "output_type": "display_data"
    }
   ],
   "source": [
    "foo_one = graphlab.factorization_recommender.create(train_base, target='Purchase',user_data=train_user, \n",
    "                                                    item_data=train_product, num_factors=70,\n",
    "                                                   side_data_factorization=True,random_seed=50)"
   ]
  },
  {
   "cell_type": "code",
   "execution_count": 17,
   "metadata": {
    "collapsed": true
   },
   "outputs": [],
   "source": [
    "predicted = foo_one.predict(test_base, new_user_data=test_user, new_item_data=test_product)"
   ]
  },
  {
   "cell_type": "code",
   "execution_count": 20,
   "metadata": {},
   "outputs": [],
   "source": [
    "purchase=graphlab.SArray(predicted)\n",
    "User_ID=graphlab.SArray(test['User_ID'])\n",
    "Product_ID=graphlab.SArray(test['Product_ID'])\n",
    "Submission=graphlab.SFrame({'User_ID':User_ID,'Product_ID':Product_ID,'Purchase':purchase})\n",
    "Submission.save('sub1',format='csv')"
   ]
  },
  {
   "cell_type": "markdown",
   "metadata": {},
   "source": [
    "### Done"
   ]
  },
  {
   "cell_type": "code",
   "execution_count": null,
   "metadata": {
    "collapsed": true
   },
   "outputs": [],
   "source": []
  }
 ],
 "metadata": {
  "kernelspec": {
   "display_name": "Python 2",
   "language": "python",
   "name": "python2"
  },
  "language_info": {
   "codemirror_mode": {
    "name": "ipython",
    "version": 2
   },
   "file_extension": ".py",
   "mimetype": "text/x-python",
   "name": "python",
   "nbconvert_exporter": "python",
   "pygments_lexer": "ipython2",
   "version": "2.7.13"
  }
 },
 "nbformat": 4,
 "nbformat_minor": 2
}
